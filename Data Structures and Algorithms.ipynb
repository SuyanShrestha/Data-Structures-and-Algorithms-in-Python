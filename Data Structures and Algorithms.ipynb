{
 "cells": [
  {
   "cell_type": "code",
   "execution_count": 8,
   "id": "9eacc5ba",
   "metadata": {},
   "outputs": [],
   "source": [
    "# Suyan Shrestha \n",
    "# Contact : sh.suyan16@gmail.com"
   ]
  },
  {
   "cell_type": "markdown",
   "id": "3ee067fb",
   "metadata": {},
   "source": [
    "## Data Structures and Algorithms in Python"
   ]
  },
  {
   "cell_type": "code",
   "execution_count": 38,
   "id": "fedbd7f3",
   "metadata": {},
   "outputs": [],
   "source": [
    "# Built In DS = List, Tuples, Sets, Dictionary\n",
    "# User Defined DS = Stack, Queue, Linked List, Tree, Graph\n",
    "\n",
    "# built in DS have syntax built in python itself\n",
    "# user defined DS dont have syntax defined in python itself, but use built in DS for implementation"
   ]
  },
  {
   "cell_type": "markdown",
   "id": "7d77da09",
   "metadata": {},
   "source": [
    "# List v2\n",
    "\n"
   ]
  },
  {
   "cell_type": "code",
   "execution_count": 5,
   "id": "e4055776",
   "metadata": {},
   "outputs": [
    {
     "data": {
      "text/plain": [
       "'suyan'"
      ]
     },
     "execution_count": 5,
     "metadata": {},
     "output_type": "execute_result"
    }
   ],
   "source": [
    "list1 = [1,2,3,\"suyan\"]\n",
    "list1[-1]"
   ]
  },
  {
   "cell_type": "code",
   "execution_count": 7,
   "id": "3c99c986",
   "metadata": {},
   "outputs": [
    {
     "data": {
      "text/plain": [
       "1"
      ]
     },
     "execution_count": 7,
     "metadata": {},
     "output_type": "execute_result"
    }
   ],
   "source": [
    "list1[0]"
   ]
  },
  {
   "cell_type": "code",
   "execution_count": 8,
   "id": "0b93204a",
   "metadata": {},
   "outputs": [
    {
     "data": {
      "text/plain": [
       "[3, 4]"
      ]
     },
     "execution_count": 8,
     "metadata": {},
     "output_type": "execute_result"
    }
   ],
   "source": [
    "list2 = [1,2,[3,4]]\n",
    "list2[-1]"
   ]
  },
  {
   "cell_type": "code",
   "execution_count": 14,
   "id": "53c09028",
   "metadata": {},
   "outputs": [],
   "source": [
    "list2.append(6)\n",
    "list2"
   ]
  },
  {
   "cell_type": "code",
   "execution_count": 18,
   "id": "63d9a10b",
   "metadata": {},
   "outputs": [
    {
     "data": {
      "text/plain": [
       "3"
      ]
     },
     "execution_count": 18,
     "metadata": {},
     "output_type": "execute_result"
    }
   ],
   "source": [
    "list2.remove(6)\n",
    "list2\n",
    "len(list2)\n",
    "\n",
    "#remove the first item equal to 6 from the list"
   ]
  },
  {
   "cell_type": "code",
   "execution_count": 20,
   "id": "b3c9577a",
   "metadata": {},
   "outputs": [
    {
     "data": {
      "text/plain": [
       "list"
      ]
     },
     "execution_count": 20,
     "metadata": {},
     "output_type": "execute_result"
    }
   ],
   "source": [
    "list2\n",
    "type(list2)"
   ]
  },
  {
   "cell_type": "markdown",
   "id": "04ec94d2",
   "metadata": {},
   "source": [
    "# Tuples v2"
   ]
  },
  {
   "cell_type": "code",
   "execution_count": 22,
   "id": "178bff2b",
   "metadata": {},
   "outputs": [
    {
     "data": {
      "text/plain": [
       "tuple"
      ]
     },
     "execution_count": 22,
     "metadata": {},
     "output_type": "execute_result"
    }
   ],
   "source": [
    "tuple1 = (1,2,3,4)\n",
    "type(tuple1)"
   ]
  },
  {
   "cell_type": "code",
   "execution_count": 23,
   "id": "7a80f0e9",
   "metadata": {},
   "outputs": [
    {
     "data": {
      "text/plain": [
       "int"
      ]
     },
     "execution_count": 23,
     "metadata": {},
     "output_type": "execute_result"
    }
   ],
   "source": [
    "tuple2 =(2)\n",
    "type(tuple2)\n",
    "\n",
    "#Tuple with only one element is integer\n",
    "#They are non mutable, i.e there wont be append remove an so on\n",
    "#They are faster than list"
   ]
  },
  {
   "cell_type": "markdown",
   "id": "55f6af82",
   "metadata": {},
   "source": [
    "# Dictionary v3"
   ]
  },
  {
   "cell_type": "code",
   "execution_count": 24,
   "id": "57a9e2a5",
   "metadata": {},
   "outputs": [
    {
     "data": {
      "text/plain": [
       "dict"
      ]
     },
     "execution_count": 24,
     "metadata": {},
     "output_type": "execute_result"
    }
   ],
   "source": [
    "# dictname = {key1:value1, key2:value2, ...}\n",
    "d={}\n",
    "type(d)"
   ]
  },
  {
   "cell_type": "code",
   "execution_count": 26,
   "id": "6c8c8f66",
   "metadata": {},
   "outputs": [
    {
     "data": {
      "text/plain": [
       "{'Suyan': 'suyan@gmail.com',\n",
       " 'Shristi': 'shristi@gmail.com',\n",
       " 'Anup': 'anup@gmail.com'}"
      ]
     },
     "execution_count": 26,
     "metadata": {},
     "output_type": "execute_result"
    }
   ],
   "source": [
    "d = {\"Suyan\" : \"suyan@gmail.com\",\n",
    "    \"Shristi\" : \"shristi@gmail.com\",\n",
    "    \"Anup\" : \"anup@gmail.com\"}\n",
    "d\n",
    "\n",
    "#dictionary unordered, so we cannot use index for accessing"
   ]
  },
  {
   "cell_type": "code",
   "execution_count": 27,
   "id": "23205bb6",
   "metadata": {},
   "outputs": [],
   "source": [
    "# we can only keep immutable stuff (unchangeable) in keys. So, lists cannot be placed in key section\n",
    "# Both mutable and immutable stuff and allowed for values.\n",
    "\n",
    "# overall dictionaries are mutable, So, sub-dicts are allowed as values in main dictionary"
   ]
  },
  {
   "cell_type": "code",
   "execution_count": 28,
   "id": "ca7894e9",
   "metadata": {},
   "outputs": [
    {
     "data": {
      "text/plain": [
       "'suyan@gmail.com'"
      ]
     },
     "execution_count": 28,
     "metadata": {},
     "output_type": "execute_result"
    }
   ],
   "source": [
    "d[\"Suyan\"]"
   ]
  },
  {
   "cell_type": "code",
   "execution_count": 30,
   "id": "15c0feb1",
   "metadata": {},
   "outputs": [
    {
     "data": {
      "text/plain": [
       "{'Suyan': 'suyan@gmail.com',\n",
       " 'Shristi': 'shristi@gmail.com',\n",
       " 'Anup': 'anup@gmail.com',\n",
       " 'koju': 'koju@gmail.com'}"
      ]
     },
     "execution_count": 30,
     "metadata": {},
     "output_type": "execute_result"
    }
   ],
   "source": [
    "#insertion\n",
    "d[\"koju\"] = \"koju@gmail.com\"\n",
    "d"
   ]
  },
  {
   "cell_type": "markdown",
   "id": "7bed8e45",
   "metadata": {},
   "source": [
    "# Sets v3\n"
   ]
  },
  {
   "cell_type": "code",
   "execution_count": 32,
   "id": "1c999f32",
   "metadata": {},
   "outputs": [
    {
     "data": {
      "text/plain": [
       "set"
      ]
     },
     "execution_count": 32,
     "metadata": {},
     "output_type": "execute_result"
    }
   ],
   "source": [
    "#unique elements only allowed\n",
    "# {} creates empty dict, so to create empty set, use set constructor\n",
    "s = set()\n",
    "type(s)"
   ]
  },
  {
   "cell_type": "code",
   "execution_count": 33,
   "id": "ecbcc61f",
   "metadata": {},
   "outputs": [
    {
     "data": {
      "text/plain": [
       "{1, 2, 3, 4}"
      ]
     },
     "execution_count": 33,
     "metadata": {},
     "output_type": "execute_result"
    }
   ],
   "source": [
    "s1 = {1,2,3,4}\n",
    "s1"
   ]
  },
  {
   "cell_type": "code",
   "execution_count": 34,
   "id": "5b17094e",
   "metadata": {},
   "outputs": [
    {
     "data": {
      "text/plain": [
       "True"
      ]
     },
     "execution_count": 34,
     "metadata": {},
     "output_type": "execute_result"
    }
   ],
   "source": [
    "s2 = {2,3,1,4}\n",
    "s1==s2"
   ]
  },
  {
   "cell_type": "code",
   "execution_count": 35,
   "id": "cd5fda84",
   "metadata": {},
   "outputs": [
    {
     "data": {
      "text/plain": [
       "True"
      ]
     },
     "execution_count": 35,
     "metadata": {},
     "output_type": "execute_result"
    }
   ],
   "source": [
    "#sets cannot have immutable objects as elements. So, there cannot be sets inside sets (no nesting)\n",
    "1 in s1"
   ]
  },
  {
   "cell_type": "code",
   "execution_count": 36,
   "id": "6734e125",
   "metadata": {},
   "outputs": [
    {
     "name": "stdout",
     "output_type": "stream",
     "text": [
      "1\n",
      "2\n",
      "3\n",
      "4\n"
     ]
    }
   ],
   "source": [
    "#sets are unordered, so indexing cannot be used for accessing the elements\n",
    "for i in s2:\n",
    "    print(i)"
   ]
  },
  {
   "cell_type": "markdown",
   "id": "6add826e",
   "metadata": {},
   "source": [
    "# Stack using List v5\n"
   ]
  },
  {
   "cell_type": "code",
   "execution_count": 39,
   "id": "7994272a",
   "metadata": {},
   "outputs": [
    {
     "data": {
      "text/plain": [
       "[10, 20]"
      ]
     },
     "execution_count": 39,
     "metadata": {},
     "output_type": "execute_result"
    }
   ],
   "source": [
    "#push for append // pop for pop\n",
    "stack = []\n",
    "stack.append(10)\n",
    "stack.append(20)\n",
    "stack"
   ]
  },
  {
   "cell_type": "code",
   "execution_count": 9,
   "id": "13baa1d6",
   "metadata": {},
   "outputs": [
    {
     "name": "stdout",
     "output_type": "stream",
     "text": [
      "Enter the length of stack: 5\n",
      "Select operation to perform: 1.push 2.pop 3.quit1\n",
      "Enter the element: 1\n",
      "Stack is  ['1']\n",
      "Select operation to perform: 1.push 2.pop 3.quit1\n",
      "Enter the element: 2\n",
      "Stack is  ['1', '2']\n",
      "Select operation to perform: 1.push 2.pop 3.quit1\n",
      "Enter the element: 3\n",
      "Stack is  ['1', '2', '3']\n",
      "Select operation to perform: 1.push 2.pop 3.quit1\n",
      "Enter the element: 4\n",
      "Stack is  ['1', '2', '3', '4']\n",
      "Select operation to perform: 1.push 2.pop 3.quit1\n",
      "Enter the element: 5\n",
      "Stack is  ['1', '2', '3', '4', '5']\n",
      "Select operation to perform: 1.push 2.pop 3.quit1\n",
      "Enter the element: 4\n",
      "Stack is  ['1', '2', '3', '4', '5', '4']\n",
      "Select operation to perform: 1.push 2.pop 3.quit1\n",
      "Satck is full\n",
      "Select operation to perform: 1.push 2.pop 3.quit2\n",
      "Removed Element is:  4\n",
      "Stack is  ['1', '2', '3', '4', '5']\n",
      "Select operation to perform: 1.push 2.pop 3.quit2\n",
      "Removed Element is:  5\n",
      "Stack is  ['1', '2', '3', '4']\n",
      "Select operation to perform: 1.push 2.pop 3.quit2\n",
      "Removed Element is:  4\n",
      "Stack is  ['1', '2', '3']\n",
      "Select operation to perform: 1.push 2.pop 3.quit2\n",
      "Removed Element is:  3\n",
      "Stack is  ['1', '2']\n",
      "Select operation to perform: 1.push 2.pop 3.quit3\n"
     ]
    }
   ],
   "source": [
    "stack1 = []\n",
    "\n",
    "length = int(input(\"Enter the length of stack: \"))\n",
    "\n",
    "def push():\n",
    "    if(length < len(stack1)):\n",
    "        print(\"Stack is full\")\n",
    "    else:\n",
    "        element = input(\"Enter the element: \")\n",
    "        stack1.append(element)\n",
    "        print(\"Stack is \",stack1)\n",
    "\n",
    "\n",
    "\n",
    "def pop():\n",
    "    if not stack1:\n",
    "        print(\"Stack is empty\")\n",
    "    else:\n",
    "        e = stack1.pop()\n",
    "        print(\"Removed Element is: \", e)\n",
    "        print(\"Stack is \",stack1)\n",
    "\n",
    "while True:\n",
    "    choice = int(input(\"Select operation to perform: 1.push 2.pop 3.quit\"))\n",
    "    if choice == 1:\n",
    "        push()\n",
    "    elif choice == 2:\n",
    "        pop()\n",
    "    elif choice ==3:\n",
    "        break\n",
    "    else:\n",
    "        print(\"Enter valid operation\")\n",
    "   "
   ]
  },
  {
   "cell_type": "markdown",
   "id": "5d94ada3",
   "metadata": {},
   "source": [
    "# Stack Implementation using Modules v6"
   ]
  },
  {
   "cell_type": "code",
   "execution_count": 23,
   "id": "790df298",
   "metadata": {},
   "outputs": [
    {
     "name": "stdout",
     "output_type": "stream",
     "text": [
      "deque([10, 20, 30])\n"
     ]
    }
   ],
   "source": [
    "#deque -> double ended queue, which is implemented using the module 'collections'\n",
    "#deque has faster append and pop operations from both ends of container\n",
    "\n",
    "import collections\n",
    "\n",
    "#creating the stack\n",
    "stack1 = collections.deque()\n",
    "\n",
    "#adding elements in the stack\n",
    "stack1.append(10)\n",
    "stack1.append(20)\n",
    "stack1.append(30)\n",
    "\n",
    "print(stack1)\n"
   ]
  },
  {
   "cell_type": "code",
   "execution_count": 24,
   "id": "f914a636",
   "metadata": {},
   "outputs": [
    {
     "name": "stdout",
     "output_type": "stream",
     "text": [
      "deque([10, 20])\n",
      "20\n"
     ]
    }
   ],
   "source": [
    "#popping the elements\n",
    "stack1.pop()\n",
    "print(stack1)\n",
    "\n",
    "#access the top element\n",
    "print(stack1[-1])"
   ]
  },
  {
   "cell_type": "code",
   "execution_count": 25,
   "id": "b309f5d3",
   "metadata": {},
   "outputs": [
    {
     "data": {
      "text/plain": [
       "True"
      ]
     },
     "execution_count": 25,
     "metadata": {},
     "output_type": "execute_result"
    }
   ],
   "source": [
    "stack1.pop()\n",
    "stack1.pop()\n",
    "#checking if the stack is empty or nah\n",
    "not stack1 #if true, generates True"
   ]
  },
  {
   "cell_type": "code",
   "execution_count": 7,
   "id": "f77e1e34",
   "metadata": {},
   "outputs": [],
   "source": [
    "#using the module queue for stack\n",
    "\n",
    "import queue\n",
    "\n",
    "#creating the stack\n",
    "stack1 = queue.LifoQueue(maxsize = 5)\n",
    "\n",
    "#adding the elements\n",
    "stack1.put(10)\n",
    "stack1.put(20)\n",
    "stack1.put(30)\n",
    "stack1.put(40)\n",
    "stack1.put(50)"
   ]
  },
  {
   "cell_type": "code",
   "execution_count": 8,
   "id": "d8fadab8",
   "metadata": {},
   "outputs": [
    {
     "data": {
      "text/plain": [
       "50"
      ]
     },
     "execution_count": 8,
     "metadata": {},
     "output_type": "execute_result"
    }
   ],
   "source": [
    "#popping the elements\n",
    "stack1.get()"
   ]
  },
  {
   "cell_type": "markdown",
   "id": "32aad93f",
   "metadata": {},
   "source": [
    "# Queue v7"
   ]
  },
  {
   "cell_type": "code",
   "execution_count": 9,
   "id": "48b35c3f",
   "metadata": {},
   "outputs": [],
   "source": [
    "#FIFO order, front end and rear end will be present\n",
    "\n",
    "#enqueue = adding elemtns\n",
    "#dequeue = removing elements\n",
    "\n",
    "#isfull can be checked for a queue\n",
    "\n",
    "#isempty can be checked for a queue\n",
    "\n",
    "#queue can be used when we want to process one thing at a time"
   ]
  },
  {
   "cell_type": "markdown",
   "id": "aeb49eeb",
   "metadata": {},
   "source": [
    "# Queue Implementation using List v8\n"
   ]
  },
  {
   "cell_type": "code",
   "execution_count": 1,
   "id": "29fa3818",
   "metadata": {},
   "outputs": [
    {
     "name": "stdout",
     "output_type": "stream",
     "text": [
      "[10, 20, 30]\n"
     ]
    }
   ],
   "source": [
    "queue1 = []\n",
    "\n",
    "#elements getting added from rear side\n",
    "queue1.append(10)\n",
    "queue1.append(20)\n",
    "queue1.append(30)\n",
    "print(queue1)"
   ]
  },
  {
   "cell_type": "code",
   "execution_count": 2,
   "id": "8159af5c",
   "metadata": {},
   "outputs": [
    {
     "name": "stdout",
     "output_type": "stream",
     "text": [
      "[20, 30]\n"
     ]
    }
   ],
   "source": [
    "#elements need to get removed from front side FIFO order, so 0 indexed item remove\n",
    "queue1.pop(0)\n",
    "print(queue1)\n"
   ]
  },
  {
   "cell_type": "code",
   "execution_count": 3,
   "id": "23194d57",
   "metadata": {},
   "outputs": [
    {
     "name": "stdout",
     "output_type": "stream",
     "text": [
      "[30, 20, 10]\n"
     ]
    }
   ],
   "source": [
    "#Alternative\n",
    "queue2 = []\n",
    "queue2.insert(0,10)\n",
    "queue2.insert(0,20)\n",
    "queue2.insert(0,30)\n",
    "print(queue2)"
   ]
  },
  {
   "cell_type": "code",
   "execution_count": 4,
   "id": "873981eb",
   "metadata": {},
   "outputs": [
    {
     "name": "stdout",
     "output_type": "stream",
     "text": [
      "[30, 20]\n"
     ]
    }
   ],
   "source": [
    "queue2.pop()\n",
    "print(queue2)"
   ]
  },
  {
   "cell_type": "code",
   "execution_count": 5,
   "id": "a81511a0",
   "metadata": {},
   "outputs": [
    {
     "data": {
      "text/plain": [
       "30"
      ]
     },
     "execution_count": 5,
     "metadata": {},
     "output_type": "execute_result"
    }
   ],
   "source": [
    "#Checking element at rear side\n",
    "queue1[-1]\n"
   ]
  },
  {
   "cell_type": "code",
   "execution_count": 6,
   "id": "429467e1",
   "metadata": {},
   "outputs": [
    {
     "data": {
      "text/plain": [
       "20"
      ]
     },
     "execution_count": 6,
     "metadata": {},
     "output_type": "execute_result"
    }
   ],
   "source": [
    "#Checking element at front side\n",
    "queue1[0]"
   ]
  },
  {
   "cell_type": "code",
   "execution_count": 2,
   "id": "d9d38d16",
   "metadata": {},
   "outputs": [
    {
     "name": "stdout",
     "output_type": "stream",
     "text": [
      "Select the operation you want to perform: \n",
      "1.add \n",
      "2.remove \n",
      "3.show \n",
      "4.quit \n",
      "1\n",
      "Enter the stuff you need to append: 1\n",
      "Select the operation you want to perform: \n",
      "1.add \n",
      "2.remove \n",
      "3.show \n",
      "4.quit \n",
      "1\n",
      "Enter the stuff you need to append: 2\n",
      "Select the operation you want to perform: \n",
      "1.add \n",
      "2.remove \n",
      "3.show \n",
      "4.quit \n",
      "1\n",
      "Enter the stuff you need to append: 3\n",
      "Select the operation you want to perform: \n",
      "1.add \n",
      "2.remove \n",
      "3.show \n",
      "4.quit \n",
      "1\n",
      "Enter the stuff you need to append: 4\n",
      "Select the operation you want to perform: \n",
      "1.add \n",
      "2.remove \n",
      "3.show \n",
      "4.quit \n",
      "1\n",
      "Enter the stuff you need to append: 5\n",
      "Select the operation you want to perform: \n",
      "1.add \n",
      "2.remove \n",
      "3.show \n",
      "4.quit \n",
      "3\n",
      "['1', '2', '3', '4', '5']\n",
      "Select the operation you want to perform: \n",
      "1.add \n",
      "2.remove \n",
      "3.show \n",
      "4.quit \n",
      "2\n",
      "Select the operation you want to perform: \n",
      "1.add \n",
      "2.remove \n",
      "3.show \n",
      "4.quit \n",
      "3\n",
      "['2', '3', '4', '5']\n",
      "Select the operation you want to perform: \n",
      "1.add \n",
      "2.remove \n",
      "3.show \n",
      "4.quit \n",
      "5\n",
      "Select the correct operation\n",
      "Select the operation you want to perform: \n",
      "1.add \n",
      "2.remove \n",
      "3.show \n",
      "4.quit \n",
      "4\n"
     ]
    }
   ],
   "source": [
    "queue = []\n",
    "\n",
    "def enqueue():\n",
    "    add = input(\"Enter the stuff you need to append: \")\n",
    "    queue.append(add)\n",
    "def dequeue():\n",
    "    if not queue:\n",
    "        print(\"Queue is already empty.\")        \n",
    "    else:\n",
    "        queue.pop(0)\n",
    "def display():\n",
    "    print(queue)\n",
    "\n",
    "\n",
    "while True:\n",
    "\n",
    "    choice = int(input(\"Select the operation you want to perform: \\n1.add \\n2.remove \\n3.show \\n4.quit \\n\"))\n",
    "    \n",
    "    if choice == 1:\n",
    "        enqueue()\n",
    "    elif choice == 2:\n",
    "        dequeue()\n",
    "    elif choice == 3:\n",
    "        display()\n",
    "    elif choice == 4:\n",
    "        break\n",
    "    else: \n",
    "        print(\"Select the correct operation\")\n",
    "\n",
    "                       \n",
    "        "
   ]
  },
  {
   "cell_type": "markdown",
   "id": "e22f018d",
   "metadata": {},
   "source": [
    "# Queue Implementation using Classes v9"
   ]
  },
  {
   "cell_type": "code",
   "execution_count": 11,
   "id": "16c164d5",
   "metadata": {},
   "outputs": [
    {
     "data": {
      "text/plain": [
       "collections.deque"
      ]
     },
     "execution_count": 11,
     "metadata": {},
     "output_type": "execute_result"
    }
   ],
   "source": [
    "import collections\n",
    "\n",
    "q1 = collections.deque()\n",
    "type(q1)"
   ]
  },
  {
   "cell_type": "code",
   "execution_count": 12,
   "id": "41909270",
   "metadata": {},
   "outputs": [
    {
     "name": "stdout",
     "output_type": "stream",
     "text": [
      "deque([10, 20, 30])\n"
     ]
    }
   ],
   "source": [
    "#adding elements from the rear side\n",
    "q1.append(10)\n",
    "q1.append(20)\n",
    "q1.append(30)\n",
    "print(q1)"
   ]
  },
  {
   "cell_type": "code",
   "execution_count": 13,
   "id": "817d69d2",
   "metadata": {},
   "outputs": [
    {
     "name": "stdout",
     "output_type": "stream",
     "text": [
      "deque([40, 10, 20, 30])\n"
     ]
    }
   ],
   "source": [
    "#adding elements from the front side\n",
    "q1.appendleft(40)\n",
    "print(q1)"
   ]
  },
  {
   "cell_type": "code",
   "execution_count": 14,
   "id": "57ce4ccb",
   "metadata": {},
   "outputs": [
    {
     "name": "stdout",
     "output_type": "stream",
     "text": [
      "deque([40, 10, 20])\n"
     ]
    }
   ],
   "source": [
    "#removing elements from the rear side\n",
    "q1.pop()\n",
    "print(q1)"
   ]
  },
  {
   "cell_type": "code",
   "execution_count": 15,
   "id": "8d0c4224",
   "metadata": {},
   "outputs": [
    {
     "name": "stdout",
     "output_type": "stream",
     "text": [
      "deque([10, 20])\n"
     ]
    }
   ],
   "source": [
    "#removing elements from the front side\n",
    "q1.popleft()\n",
    "print(q1)"
   ]
  },
  {
   "cell_type": "markdown",
   "id": "8a1da3bc",
   "metadata": {},
   "source": [
    "# Priority Queue v10\n"
   ]
  },
  {
   "cell_type": "code",
   "execution_count": 1,
   "id": "6bf02058",
   "metadata": {},
   "outputs": [
    {
     "name": "stdout",
     "output_type": "stream",
     "text": [
      "[3, 5, 45, 50]\n"
     ]
    }
   ],
   "source": [
    "# We either set lowest value as highest priority or highest value as highest priority\n",
    "\n",
    "# for lower value as highest priority, sort in ascending order\n",
    "q = []\n",
    "q.append(5)\n",
    "q.append(3)\n",
    "q.append(45)\n",
    "q.append(50)\n",
    "\n",
    "q.sort()\n",
    "print(q)\n",
    "\n",
    "# for higher value as highest priority, sort in descending order\n",
    " \n"
   ]
  },
  {
   "cell_type": "code",
   "execution_count": 5,
   "id": "b597b40b",
   "metadata": {},
   "outputs": [
    {
     "data": {
      "text/plain": [
       "10"
      ]
     },
     "execution_count": 5,
     "metadata": {},
     "output_type": "execute_result"
    }
   ],
   "source": [
    "import queue\n",
    "q = queue.PriorityQueue()\n",
    "q.put(10)\n",
    "q.put(400)\n",
    "q.put(50)\n",
    "q.put(60)\n",
    "q.put(40)\n",
    "q.put(50)\n",
    "\n",
    "# So the queue will be sorted in ascending order here\n",
    "\n",
    "q.get()\n",
    "# Now get() will pop 10 by FIFO principle "
   ]
  },
  {
   "cell_type": "markdown",
   "id": "fb12fc5b",
   "metadata": {},
   "source": [
    "# Linked List v11"
   ]
  },
  {
   "cell_type": "code",
   "execution_count": 9,
   "id": "9744121f",
   "metadata": {},
   "outputs": [],
   "source": [
    "# consists of nodes where each node contains a data field and a reference to the next node in the list.\n",
    "# No need to mention size while creation (dynamic in nature)\n",
    "# Easy insertion and deletion (no shifting required)\n",
    "\n",
    "# Needs extra memory for link.\n",
    "# Random access isn't possible.\n",
    "\n",
    "# Three types of linked link: singly linked, doubly linked, circular linked.\n"
   ]
  },
  {
   "cell_type": "markdown",
   "id": "fe8a2df3",
   "metadata": {},
   "source": [
    "# Singly Linked List Traversal v13"
   ]
  },
  {
   "cell_type": "code",
   "execution_count": 7,
   "id": "4097cb25",
   "metadata": {},
   "outputs": [
    {
     "name": "stdout",
     "output_type": "stream",
     "text": [
      "Linked List is empty.\n"
     ]
    }
   ],
   "source": [
    "# Each node only contains one single link i.e. link to next node.\n",
    "# for insertion, we need to break the already existing link (begin, end, inbetween)\n",
    "\n",
    "\n",
    "class Node:\n",
    "    def __init__(self, data):\n",
    "        self.data = data\n",
    "        self.ref = None\n",
    "\n",
    "class LinkedList:\n",
    "    def __init__(self):\n",
    "        self.head = None\n",
    "        \n",
    "    def print_LL(self):\n",
    "        if self.head == None:\n",
    "            print(\"Linked List is empty.\")    \n",
    "        else:\n",
    "            n = self.head\n",
    "            while n is not None:\n",
    "                print(n.data)\n",
    "                n = n.ref\n",
    "                \n",
    "LL1 = LinkedList()\n",
    "LL1.print_LL()"
   ]
  },
  {
   "cell_type": "markdown",
   "id": "fd14f730",
   "metadata": {},
   "source": [
    "# Singly Linked List Insertion of elements v14"
   ]
  },
  {
   "cell_type": "code",
   "execution_count": 10,
   "id": "6a71c4ab",
   "metadata": {},
   "outputs": [
    {
     "name": "stdout",
     "output_type": "stream",
     "text": [
      "30\n",
      "400\n",
      "200\n",
      "10\n",
      "100\n"
     ]
    }
   ],
   "source": [
    "class Node:\n",
    "    def __init__(self, data):\n",
    "        self.data = data\n",
    "        self.ref = None\n",
    "\n",
    "class LinkedList:\n",
    "    def __init__(self):\n",
    "        self.head = None\n",
    "        \n",
    "    def print_LL(self):\n",
    "        if self.head == None:\n",
    "            print(\"Linked List is empty.\")    \n",
    "        else:\n",
    "            n = self.head\n",
    "            while n is not None:\n",
    "                print(n.data)\n",
    "                n = n.ref\n",
    "    \n",
    "    # adding elements at the beginning of list\n",
    "    def add_begin(self,data):\n",
    "        new_node = Node(data) \n",
    "        new_node.ref = self.head\n",
    "        self.head = new_node\n",
    "\n",
    "    # adding elements to the end of list\n",
    "    def add_end(self,data):\n",
    "        new_node = Node(data)\n",
    "        if self.head is None:\n",
    "            self.head = new_node\n",
    "        else:\n",
    "            n = self.head\n",
    "            while n.ref is not None:\n",
    "                n = n.ref\n",
    "            n.ref = new_node\n",
    "            \n",
    "    #adding elements after a node, here x is the mentioned node\n",
    "    def add_after(self,data,x):\n",
    "        n = self.head\n",
    "        while n is not None:\n",
    "            if x==n.data:\n",
    "                break\n",
    "            else:\n",
    "                n = n.ref\n",
    "        if n is None:\n",
    "            print(\"The mentioned item isn't present in the node.\")\n",
    "        else:\n",
    "            new_node = Node(data)\n",
    "            new_node.ref = n.ref\n",
    "            n.ref = new_node\n",
    "            \n",
    "\n",
    "    \n",
    "LL1 = LinkedList()\n",
    "\n",
    "LL1.add_begin(10)\n",
    "LL1.add_begin(200)\n",
    "LL1.add_begin(30)\n",
    "\n",
    "LL1.add_end(100)\n",
    "\n",
    "LL1.add_after(400,30)\n",
    "\n",
    "LL1.print_LL()"
   ]
  },
  {
   "cell_type": "markdown",
   "id": "1eb671e8",
   "metadata": {},
   "source": [
    "# Singly linked list deleting a node\n"
   ]
  },
  {
   "cell_type": "code",
   "execution_count": 13,
   "id": "ebaa8cfc",
   "metadata": {},
   "outputs": [
    {
     "name": "stdout",
     "output_type": "stream",
     "text": [
      "The mentioned item isn't present in the node.\n",
      "Linked List is empty.\n"
     ]
    }
   ],
   "source": [
    "class Node:\n",
    "    def __init__(self, data):\n",
    "        self.data = data\n",
    "        self.ref = None\n",
    "\n",
    "class LinkedList:\n",
    "    \n",
    "    def __init__(self):\n",
    "        self.head = None\n",
    "    \n",
    "    def print_LL(self):\n",
    "        if self.head == None:\n",
    "            print(\"Linked List is empty.\")    \n",
    "        else:\n",
    "            n = self.head\n",
    "            while n is not None:\n",
    "                print(n.data)\n",
    "                n = n.ref\n",
    "        \n",
    "    def del_node(self, x):\n",
    "        n = self.head\n",
    "        # first we need to traverse till we meet the node\n",
    "        while n is not None:\n",
    "            if n.data == x:\n",
    "                break\n",
    "            else:\n",
    "                n = n.ref\n",
    "        if n is None:\n",
    "            print(\"The mentioned item isn't present in the node.\")\n",
    "        else:\n",
    "            prev.ref = n.ref\n",
    "            \n",
    "LL1 = LinkedList()\n",
    "\n",
    "\n",
    "LL1.del_node(400)        \n",
    "LL1.print_LL()             "
   ]
  },
  {
   "cell_type": "code",
   "execution_count": null,
   "id": "2cdfab96",
   "metadata": {},
   "outputs": [],
   "source": [
    "print('updates made to the file.')"
   ]
  }
 ],
 "metadata": {
  "kernelspec": {
   "display_name": "Python 3 (ipykernel)",
   "language": "python",
   "name": "python3"
  },
  "language_info": {
   "codemirror_mode": {
    "name": "ipython",
    "version": 3
   },
   "file_extension": ".py",
   "mimetype": "text/x-python",
   "name": "python",
   "nbconvert_exporter": "python",
   "pygments_lexer": "ipython3",
   "version": "3.10.5"
  }
 },
 "nbformat": 4,
 "nbformat_minor": 5
}
