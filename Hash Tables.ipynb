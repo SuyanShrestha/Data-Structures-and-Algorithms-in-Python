{
 "cells": [
  {
   "cell_type": "markdown",
   "id": "34176a05",
   "metadata": {},
   "source": [
    "# HashSets"
   ]
  },
  {
   "cell_type": "code",
   "execution_count": 11,
   "id": "57bde103",
   "metadata": {},
   "outputs": [],
   "source": [
    "# Since HashSets are not built-in, they are implemented using sets datastructures in python"
   ]
  },
  {
   "cell_type": "code",
   "execution_count": 1,
   "id": "ae78b93d",
   "metadata": {},
   "outputs": [
    {
     "name": "stdout",
     "output_type": "stream",
     "text": [
      "{1, 2, 'a'}\n"
     ]
    }
   ],
   "source": [
    "hashset = set()\n",
    "\n",
    "# appending new elements in the set\n",
    "hashset.add(1)\n",
    "hashset.add(2)\n",
    "hashset.add('a')\n",
    "print(hashset)"
   ]
  },
  {
   "cell_type": "code",
   "execution_count": 3,
   "id": "0872bf1d",
   "metadata": {},
   "outputs": [
    {
     "name": "stdout",
     "output_type": "stream",
     "text": [
      "{2, 'a'}\n"
     ]
    }
   ],
   "source": [
    "# popping elements from the set\n",
    "# hashset.remove() generates error, we need to specify exactly what is to be removed.\n",
    "\n",
    "hashset.remove(1)\n",
    "print(hashset)"
   ]
  },
  {
   "cell_type": "code",
   "execution_count": 4,
   "id": "81441b25",
   "metadata": {},
   "outputs": [
    {
     "name": "stdout",
     "output_type": "stream",
     "text": [
      "False\n",
      "True\n",
      "True\n"
     ]
    }
   ],
   "source": [
    "#checking if the element is present in the hashset\n",
    "print(1 in hashset)\n",
    "print(\"a\" in hashset)\n",
    "print(2 in hashset)"
   ]
  },
  {
   "cell_type": "code",
   "execution_count": 4,
   "id": "c8590f74",
   "metadata": {},
   "outputs": [
    {
     "ename": "ModuleNotFoundError",
     "evalue": "No module named 'hs'",
     "output_type": "error",
     "traceback": [
      "\u001b[1;31m---------------------------------------------------------------------------\u001b[0m",
      "\u001b[1;31mModuleNotFoundError\u001b[0m                       Traceback (most recent call last)",
      "Input \u001b[1;32mIn [4]\u001b[0m, in \u001b[0;36m<cell line: 2>\u001b[1;34m()\u001b[0m\n\u001b[0;32m      1\u001b[0m \u001b[38;5;66;03m#Alternative to create hashset\u001b[39;00m\n\u001b[1;32m----> 2\u001b[0m \u001b[38;5;28;01mfrom\u001b[39;00m \u001b[38;5;21;01mhs\u001b[39;00m \u001b[38;5;28;01mimport\u001b[39;00m HashSet\n\u001b[0;32m      3\u001b[0m new \u001b[38;5;241m=\u001b[39m HashSet()\n\u001b[0;32m      4\u001b[0m new\u001b[38;5;241m.\u001b[39madd(\u001b[38;5;241m10\u001b[39m)\n",
      "\u001b[1;31mModuleNotFoundError\u001b[0m: No module named 'hs'"
     ]
    }
   ],
   "source": [
    "#Alternative to create hashset\n",
    "from hs import HashSet\n",
    "new = HashSet()\n",
    "new.add(10)\n",
    "new.add(20)\n",
    "new.add(\"abcmd\")\n",
    "print(new)\n",
    "\n",
    "new.contains(10)\n",
    "new.remove(20)\n",
    "\n",
    "# NO SUCH MODULE EXISTS IN PYTHON. We must use set data structure for creating hashsets.\n",
    "# pip install hs # to run this shit"
   ]
  },
  {
   "cell_type": "code",
   "execution_count": 6,
   "id": "9bc07e8e",
   "metadata": {},
   "outputs": [
    {
     "name": "stdout",
     "output_type": "stream",
     "text": [
      "{0, 1, 2, 3, 4, 5, 6, 7, 8, 9}\n"
     ]
    }
   ],
   "source": [
    "# Set Comprehension for hashsets\n",
    "\n",
    "newset = {i for i in range(10)}\n",
    "print(newset)"
   ]
  },
  {
   "cell_type": "code",
   "execution_count": 8,
   "id": "f1fe2893",
   "metadata": {},
   "outputs": [
    {
     "name": "stdout",
     "output_type": "stream",
     "text": [
      "{3, 4, 5, 6, 7, 8, 9}\n"
     ]
    }
   ],
   "source": [
    "new2 = {i for i in range(10) if i>2}\n",
    "print(new2)"
   ]
  },
  {
   "cell_type": "code",
   "execution_count": 10,
   "id": "c7dba951",
   "metadata": {},
   "outputs": [
    {
     "name": "stdout",
     "output_type": "stream",
     "text": [
      "Enter the string: bfikdsbfksdbisgbsfdbsjdbsygd\n",
      "{4, 6, 8, 10, 12, 14, 16, 18, 20, 22, 24, 26}\n"
     ]
    }
   ],
   "source": [
    "strin = input(\"Enter the string: \")\n",
    "\n",
    "new3 = {i for i in range(len(strin)) if i%2==0 and i>2}\n",
    "\n",
    "print(new3)"
   ]
  },
  {
   "cell_type": "markdown",
   "id": "02b4163b",
   "metadata": {},
   "source": [
    "# HashMaps"
   ]
  },
  {
   "cell_type": "code",
   "execution_count": 12,
   "id": "f1c623bd",
   "metadata": {},
   "outputs": [],
   "source": [
    "# Just like HashSets are implemented using sets in Python, HashMaps are implemented using Dictionaries"
   ]
  },
  {
   "cell_type": "code",
   "execution_count": 15,
   "id": "ec3342fe",
   "metadata": {},
   "outputs": [
    {
     "name": "stdout",
     "output_type": "stream",
     "text": [
      "{'Suyan': 11, 'Shristi': 12, 'hehe': 13}\n"
     ]
    }
   ],
   "source": [
    "newmap = dict()\n",
    "# hashmap = {}\n",
    "\n",
    "# Appending elements in hashmaps\n",
    "newmap[\"Suyan\"] = 11\n",
    "newmap[\"Shristi\"] = 12\n",
    "newmap[\"hehe\"] = 13\n",
    "\n",
    "# Display the hashmap\n",
    "print(newmap)"
   ]
  },
  {
   "cell_type": "code",
   "execution_count": 16,
   "id": "e014d150",
   "metadata": {},
   "outputs": [
    {
     "name": "stdout",
     "output_type": "stream",
     "text": [
      "3\n"
     ]
    }
   ],
   "source": [
    "print(len(newmap))"
   ]
  },
  {
   "cell_type": "code",
   "execution_count": 17,
   "id": "c5022cce",
   "metadata": {},
   "outputs": [
    {
     "name": "stdout",
     "output_type": "stream",
     "text": [
      "11\n"
     ]
    }
   ],
   "source": [
    "print(newmap[\"Suyan\"])"
   ]
  },
  {
   "cell_type": "code",
   "execution_count": 21,
   "id": "8467bb4b",
   "metadata": {},
   "outputs": [
    {
     "name": "stdout",
     "output_type": "stream",
     "text": [
      "Shristi\n"
     ]
    }
   ],
   "source": [
    "# Printing the key with the value 12\n",
    "\n",
    "def get_key(val):\n",
    "   \n",
    "    for key, value in newmap.items():\n",
    "        if val == value:\n",
    "            return key\n",
    "        \n",
    "print(get_key(12))"
   ]
  },
  {
   "cell_type": "code",
   "execution_count": 24,
   "id": "4651bbce",
   "metadata": {},
   "outputs": [
    {
     "name": "stdout",
     "output_type": "stream",
     "text": [
      "['Suyan', 'Shristi']\n",
      "['Shristi']\n",
      "['Suyan']\n"
     ]
    }
   ],
   "source": [
    "# By using lambda filter\n",
    "new_list = list(filter(lambda  x: newmap[x], newmap))\n",
    "print(new_list)\n",
    "\n",
    "new_list2 = list(filter(lambda x: newmap[x] == 12, newmap))\n",
    "print(new_list2)\n",
    "\n",
    "new_list3 = list(filter(lambda x: newmap[x] == 11, newmap))\n",
    "print(new_list3)"
   ]
  },
  {
   "cell_type": "code",
   "execution_count": 19,
   "id": "7916ee84",
   "metadata": {},
   "outputs": [
    {
     "data": {
      "text/plain": [
       "13"
      ]
     },
     "execution_count": 19,
     "metadata": {},
     "output_type": "execute_result"
    }
   ],
   "source": [
    "# Deleting elements in HashMap\n",
    "newmap.pop('hehe')"
   ]
  },
  {
   "cell_type": "code",
   "execution_count": 20,
   "id": "9e89db9b",
   "metadata": {},
   "outputs": [
    {
     "name": "stdout",
     "output_type": "stream",
     "text": [
      "{'Suyan': 11, 'Shristi': 12}\n"
     ]
    }
   ],
   "source": [
    "print(newmap)"
   ]
  },
  {
   "cell_type": "code",
   "execution_count": 25,
   "id": "28aaf58d",
   "metadata": {},
   "outputs": [
    {
     "name": "stdout",
     "output_type": "stream",
     "text": [
      "Enter the string: ShristiKoju\n",
      "{0: 1, 2: 9, 4: 81, 6: 729, 8: 6561, 10: 59049}\n"
     ]
    }
   ],
   "source": [
    "# Dict Comprehension\n",
    "her = input(\"Enter the string: \")\n",
    "newmap = {i: 3**i for i in range(len(her)) if i%2 == 0}\n",
    "print(newmap)"
   ]
  },
  {
   "cell_type": "code",
   "execution_count": null,
   "id": "227784e4",
   "metadata": {},
   "outputs": [],
   "source": []
  },
  {
   "cell_type": "code",
   "execution_count": null,
   "id": "42e14071",
   "metadata": {},
   "outputs": [],
   "source": []
  }
 ],
 "metadata": {
  "kernelspec": {
   "display_name": "Python 3 (ipykernel)",
   "language": "python",
   "name": "python3"
  },
  "language_info": {
   "codemirror_mode": {
    "name": "ipython",
    "version": 3
   },
   "file_extension": ".py",
   "mimetype": "text/x-python",
   "name": "python",
   "nbconvert_exporter": "python",
   "pygments_lexer": "ipython3",
   "version": "3.10.5"
  }
 },
 "nbformat": 4,
 "nbformat_minor": 5
}
